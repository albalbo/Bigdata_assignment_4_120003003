{
 "cells": [
  {
   "cell_type": "markdown",
   "metadata": {
    "colab_type": "text",
    "id": "lwbaV0sb0lzw"
   },
   "source": [
    "PROBLEM 2"
   ]
  },
  {
   "cell_type": "code",
   "execution_count": 3,
   "metadata": {
    "colab": {
     "base_uri": "https://localhost:8080/",
     "height": 204
    },
    "colab_type": "code",
    "id": "TiXW5l1er90z",
    "outputId": "c29859f1-ad5d-4d76-800f-2aeb48ffad67"
   },
   "outputs": [
    {
     "data": {
      "text/html": [
       "<div>\n",
       "<style scoped>\n",
       "    .dataframe tbody tr th:only-of-type {\n",
       "        vertical-align: middle;\n",
       "    }\n",
       "\n",
       "    .dataframe tbody tr th {\n",
       "        vertical-align: top;\n",
       "    }\n",
       "\n",
       "    .dataframe thead th {\n",
       "        text-align: right;\n",
       "    }\n",
       "</style>\n",
       "<table border=\"1\" class=\"dataframe\">\n",
       "  <thead>\n",
       "    <tr style=\"text-align: right;\">\n",
       "      <th></th>\n",
       "      <th>user_id</th>\n",
       "      <th>age</th>\n",
       "      <th>gender</th>\n",
       "      <th>occupation</th>\n",
       "      <th>zipcode</th>\n",
       "    </tr>\n",
       "  </thead>\n",
       "  <tbody>\n",
       "    <tr>\n",
       "      <th>0</th>\n",
       "      <td>1</td>\n",
       "      <td>24</td>\n",
       "      <td>M</td>\n",
       "      <td>technician</td>\n",
       "      <td>85711</td>\n",
       "    </tr>\n",
       "    <tr>\n",
       "      <th>1</th>\n",
       "      <td>2</td>\n",
       "      <td>53</td>\n",
       "      <td>F</td>\n",
       "      <td>other</td>\n",
       "      <td>94043</td>\n",
       "    </tr>\n",
       "    <tr>\n",
       "      <th>2</th>\n",
       "      <td>3</td>\n",
       "      <td>23</td>\n",
       "      <td>M</td>\n",
       "      <td>writer</td>\n",
       "      <td>32067</td>\n",
       "    </tr>\n",
       "    <tr>\n",
       "      <th>3</th>\n",
       "      <td>4</td>\n",
       "      <td>24</td>\n",
       "      <td>M</td>\n",
       "      <td>technician</td>\n",
       "      <td>43537</td>\n",
       "    </tr>\n",
       "    <tr>\n",
       "      <th>4</th>\n",
       "      <td>5</td>\n",
       "      <td>33</td>\n",
       "      <td>F</td>\n",
       "      <td>other</td>\n",
       "      <td>15213</td>\n",
       "    </tr>\n",
       "  </tbody>\n",
       "</table>\n",
       "</div>"
      ],
      "text/plain": [
       "   user_id  age gender  occupation zipcode\n",
       "0        1   24      M  technician   85711\n",
       "1        2   53      F       other   94043\n",
       "2        3   23      M      writer   32067\n",
       "3        4   24      M  technician   43537\n",
       "4        5   33      F       other   15213"
      ]
     },
     "execution_count": 3,
     "metadata": {
      "tags": []
     },
     "output_type": "execute_result"
    }
   ],
   "source": [
    "import pandas as pd\n",
    "user_ratings_nam = [\"user_id\", \"item_id\", \"rating\", \"timestamp\"]\n",
    "user_ratings = pd.read_csv('u.data', sep='\\t', header = None, names = user_ratings_nam,encoding='latin-1')\n",
    "movie_nam = ['movie id', 'movie title', 'release date', 'video release date', 'IMDb URL', 'unknown', 'Action', 'Adventure', 'Animation', \"Children's\", 'Comedy', 'Crime', 'Documentary', 'Drama', 'Fantasy', 'Film-Noir', 'Horror', 'Musical', 'Mystery', 'Romance', 'Sci-Fi', 'Thriller', 'War', 'Western']\n",
    "movies = pd.read_csv('u.item', sep = '|', header = None, names = movie_nam,encoding='latin-1')\n",
    "user_nam = [\"user_id\", \"age\", \"gender\", \"occupation\", \"zipcode\"]\n",
    "users = pd.read_csv('u.user', sep = '|', header = None, names = user_nam,encoding='latin-1')\n",
    "users.head()"
   ]
  },
  {
   "cell_type": "code",
   "execution_count": null,
   "metadata": {
    "colab": {},
    "colab_type": "code",
    "id": "IUat-b9M8LJ7"
   },
   "outputs": [],
   "source": [
    "def profile_user():\n",
    "    rec = 0\n",
    "    genres = movie_nam[6:]\n",
    "    genre_ratings=[]\n",
    "    genre_counts=[]\n",
    "    user_ids = [200, 15]\n",
    "    profile= user_ids\n",
    "    lis=[]\n",
    "\n",
    "    for i in user_ids:\n",
    "        profile = [i]\n",
    "        genre_ratings = [0]*len(genres)\n",
    "        genre_counts = [0]*len(genres)\n",
    "        per_user_rating=user_ratings[user_ratings['user_id']==i]\n",
    "        movie_ids = per_user_rating['item_id']\n",
    "        movie_ratings = per_user_rating['rating']\n",
    "        for i, r in zip(movie_ids, movie_ratings):\n",
    "            movie = movies[movies['movie id']==i]\n",
    "            for k, j in enumerate(genres):\n",
    "                if movie[j].iloc[0] == 1:\n",
    "                    genre_ratings[k] += r\n",
    "                    genre_counts[k] += 1\n",
    "        rec += 1\n",
    "        genre_ratings = [round(i/j, 2) if j != 0 else 0 for i,j in zip(genre_ratings, genre_counts)]\n",
    "        profile.extend(genre_ratings)\n",
    "        lis.append(profile)\n",
    "        \n",
    "    return  lis"
   ]
  },
  {
   "cell_type": "code",
   "execution_count": 7,
   "metadata": {
    "colab": {
     "base_uri": "https://localhost:8080/",
     "height": 102
    },
    "colab_type": "code",
    "id": "LaRZONyr8_-l",
    "outputId": "511d30cd-838d-435d-d296-db781651868e"
   },
   "outputs": [
    {
     "name": "stdout",
     "output_type": "stream",
     "text": [
      "   User_id  Action  Adventure  Animation  ...  Sci-Fi  Thriller   War  Western\n",
      "0      200    4.20       4.12       4.12  ...    4.37      4.02  4.29      4.0\n",
      "1       15    2.68       3.00       1.00  ...    2.67      2.36  3.40      0.0\n",
      "\n",
      "[2 rows x 19 columns]\n"
     ]
    }
   ],
   "source": [
    "columns =['User_id','Action', 'Adventure', 'Animation', \"Children's\", 'Comedy', 'Crime', 'Documentary', 'Drama', 'Fantasy', 'Film-Noir', 'Horror', 'Musical', 'Mystery', 'Romance', 'Sci-Fi', 'Thriller', 'War', 'Western']\n",
    "p=profile_user()\n",
    "\n",
    "p=pd.DataFrame(p)\n",
    "p.columns=columns\n",
    "print(p)"
   ]
  },
  {
   "cell_type": "markdown",
   "metadata": {
    "colab_type": "text",
    "id": "ZSmDhQ-H_8Cj"
   },
   "source": [
    "Cosine similarity between user15 ,user200 and movie 97"
   ]
  },
  {
   "cell_type": "code",
   "execution_count": 12,
   "metadata": {
    "colab": {
     "base_uri": "https://localhost:8080/",
     "height": 51
    },
    "colab_type": "code",
    "id": "Ze_2dDIB-cKk",
    "outputId": "057c8838-27a9-4e43-cd15-72b6fe748d53"
   },
   "outputs": [
    {
     "name": "stdout",
     "output_type": "stream",
     "text": [
      "cosine similarity between user 15 and movie 97 : 0.6427084353986308\n",
      "cosine similarity between user 200 and movie 97 : 0.5338775894666912\n"
     ]
    }
   ],
   "source": [
    "from scipy.spatial.distance import cosine\n",
    "genres=movie_nam[6:]\n",
    "data=user_ratings\n",
    "user200=cosine(movies[movies['movie id']==95][genres].values[0], p[genres].values[0])\n",
    "user15=cosine(movies[movies['movie id']==95][genres].values[0], p[genres].values[1])\n",
    "print(\"cosine similarity between user 15 and movie 97 :\",user15)\n",
    "print(\"cosine similarity between user 200 and movie 97 :\",user200)"
   ]
  },
  {
   "cell_type": "markdown",
   "metadata": {
    "colab_type": "text",
    "id": "SY93Rx3x_PR9"
   },
   "source": [
    "Recommend movie 97 user 15"
   ]
  },
  {
   "cell_type": "markdown",
   "metadata": {
    "colab_type": "text",
    "id": "sdthjdMTA0rv"
   },
   "source": [
    "Problem 3"
   ]
  },
  {
   "cell_type": "code",
   "execution_count": 10,
   "metadata": {
    "colab": {
     "base_uri": "https://localhost:8080/",
     "height": 204
    },
    "colab_type": "code",
    "id": "onQyACLsA6S9",
    "outputId": "ac4e4f8e-483f-4d64-b7a3-f8dbc5b756cf"
   },
   "outputs": [
    {
     "data": {
      "text/html": [
       "<div>\n",
       "<style scoped>\n",
       "    .dataframe tbody tr th:only-of-type {\n",
       "        vertical-align: middle;\n",
       "    }\n",
       "\n",
       "    .dataframe tbody tr th {\n",
       "        vertical-align: top;\n",
       "    }\n",
       "\n",
       "    .dataframe thead th {\n",
       "        text-align: right;\n",
       "    }\n",
       "</style>\n",
       "<table border=\"1\" class=\"dataframe\">\n",
       "  <thead>\n",
       "    <tr style=\"text-align: right;\">\n",
       "      <th></th>\n",
       "      <th>user_id</th>\n",
       "      <th>item_id</th>\n",
       "      <th>rating</th>\n",
       "      <th>timestamp</th>\n",
       "    </tr>\n",
       "  </thead>\n",
       "  <tbody>\n",
       "    <tr>\n",
       "      <th>0</th>\n",
       "      <td>196</td>\n",
       "      <td>242</td>\n",
       "      <td>3</td>\n",
       "      <td>881250949</td>\n",
       "    </tr>\n",
       "    <tr>\n",
       "      <th>1</th>\n",
       "      <td>186</td>\n",
       "      <td>302</td>\n",
       "      <td>3</td>\n",
       "      <td>891717742</td>\n",
       "    </tr>\n",
       "    <tr>\n",
       "      <th>2</th>\n",
       "      <td>22</td>\n",
       "      <td>377</td>\n",
       "      <td>1</td>\n",
       "      <td>878887116</td>\n",
       "    </tr>\n",
       "    <tr>\n",
       "      <th>3</th>\n",
       "      <td>244</td>\n",
       "      <td>51</td>\n",
       "      <td>2</td>\n",
       "      <td>880606923</td>\n",
       "    </tr>\n",
       "    <tr>\n",
       "      <th>4</th>\n",
       "      <td>166</td>\n",
       "      <td>346</td>\n",
       "      <td>1</td>\n",
       "      <td>886397596</td>\n",
       "    </tr>\n",
       "  </tbody>\n",
       "</table>\n",
       "</div>"
      ],
      "text/plain": [
       "   user_id  item_id  rating  timestamp\n",
       "0      196      242       3  881250949\n",
       "1      186      302       3  891717742\n",
       "2       22      377       1  878887116\n",
       "3      244       51       2  880606923\n",
       "4      166      346       1  886397596"
      ]
     },
     "execution_count": 10,
     "metadata": {
      "tags": []
     },
     "output_type": "execute_result"
    }
   ],
   "source": [
    "user_ratings.head()"
   ]
  },
  {
   "cell_type": "code",
   "execution_count": null,
   "metadata": {
    "colab": {},
    "colab_type": "code",
    "id": "D7qMXRegCuk0"
   },
   "outputs": [],
   "source": [
    "import numpy as np\n",
    "data_pivot = pd.pivot_table(data,values='rating',index='item_id',columns='user_id')\n",
    "data_pivot.fillna( 0, inplace = True )\n",
    "from sklearn.metrics.pairwise import cosine_similarity\n",
    "\n",
    "a_1 = np.array(data_pivot.iloc[567]).reshape(1, -1)  #567 is the row number of movie 'Speed'\n",
    "\n",
    " \n",
    "# calculate the similartity of this movie with the others in the list\n",
    "score_col = cosine_similarity(data_pivot, a_1).reshape(-1)\n",
    "\n",
    "\n",
    "# form a data frame of similar movies \n",
    "dictdf = {'collaborative': score_col } \n",
    "similar = pd.DataFrame(dictdf, index = data_pivot.index )\n",
    " \n",
    "#sort it on the basis of collaborative score\n",
    "similar.sort_values('collaborative', ascending=False, inplace=True)\n",
    "#similar[['collaborative']][1:].head(10)"
   ]
  },
  {
   "cell_type": "code",
   "execution_count": 15,
   "metadata": {
    "colab": {
     "base_uri": "https://localhost:8080/",
     "height": 266
    },
    "colab_type": "code",
    "id": "wfBA6PHUEHnW",
    "outputId": "bc785b98-5adb-4f28-bce3-c6c95c3776ea"
   },
   "outputs": [
    {
     "data": {
      "text/html": [
       "<div>\n",
       "<style scoped>\n",
       "    .dataframe tbody tr th:only-of-type {\n",
       "        vertical-align: middle;\n",
       "    }\n",
       "\n",
       "    .dataframe tbody tr th {\n",
       "        vertical-align: top;\n",
       "    }\n",
       "\n",
       "    .dataframe thead th {\n",
       "        text-align: right;\n",
       "    }\n",
       "</style>\n",
       "<table border=\"1\" class=\"dataframe\">\n",
       "  <thead>\n",
       "    <tr style=\"text-align: right;\">\n",
       "      <th></th>\n",
       "      <th>user_id</th>\n",
       "      <th>age</th>\n",
       "      <th>gender</th>\n",
       "      <th>occupation</th>\n",
       "      <th>zipcode</th>\n",
       "      <th>item_id</th>\n",
       "      <th>rating</th>\n",
       "      <th>timestamp</th>\n",
       "      <th>agerange</th>\n",
       "    </tr>\n",
       "  </thead>\n",
       "  <tbody>\n",
       "    <tr>\n",
       "      <th>0</th>\n",
       "      <td>1</td>\n",
       "      <td>24</td>\n",
       "      <td>M</td>\n",
       "      <td>technician</td>\n",
       "      <td>85711</td>\n",
       "      <td>61</td>\n",
       "      <td>4</td>\n",
       "      <td>878542420</td>\n",
       "      <td>18-29</td>\n",
       "    </tr>\n",
       "    <tr>\n",
       "      <th>1</th>\n",
       "      <td>1</td>\n",
       "      <td>24</td>\n",
       "      <td>M</td>\n",
       "      <td>technician</td>\n",
       "      <td>85711</td>\n",
       "      <td>189</td>\n",
       "      <td>3</td>\n",
       "      <td>888732928</td>\n",
       "      <td>18-29</td>\n",
       "    </tr>\n",
       "    <tr>\n",
       "      <th>2</th>\n",
       "      <td>1</td>\n",
       "      <td>24</td>\n",
       "      <td>M</td>\n",
       "      <td>technician</td>\n",
       "      <td>85711</td>\n",
       "      <td>33</td>\n",
       "      <td>4</td>\n",
       "      <td>878542699</td>\n",
       "      <td>18-29</td>\n",
       "    </tr>\n",
       "    <tr>\n",
       "      <th>3</th>\n",
       "      <td>1</td>\n",
       "      <td>24</td>\n",
       "      <td>M</td>\n",
       "      <td>technician</td>\n",
       "      <td>85711</td>\n",
       "      <td>160</td>\n",
       "      <td>4</td>\n",
       "      <td>875072547</td>\n",
       "      <td>18-29</td>\n",
       "    </tr>\n",
       "    <tr>\n",
       "      <th>4</th>\n",
       "      <td>1</td>\n",
       "      <td>24</td>\n",
       "      <td>M</td>\n",
       "      <td>technician</td>\n",
       "      <td>85711</td>\n",
       "      <td>20</td>\n",
       "      <td>4</td>\n",
       "      <td>887431883</td>\n",
       "      <td>18-29</td>\n",
       "    </tr>\n",
       "    <tr>\n",
       "      <th>5</th>\n",
       "      <td>1</td>\n",
       "      <td>24</td>\n",
       "      <td>M</td>\n",
       "      <td>technician</td>\n",
       "      <td>85711</td>\n",
       "      <td>202</td>\n",
       "      <td>5</td>\n",
       "      <td>875072442</td>\n",
       "      <td>18-29</td>\n",
       "    </tr>\n",
       "    <tr>\n",
       "      <th>6</th>\n",
       "      <td>1</td>\n",
       "      <td>24</td>\n",
       "      <td>M</td>\n",
       "      <td>technician</td>\n",
       "      <td>85711</td>\n",
       "      <td>171</td>\n",
       "      <td>5</td>\n",
       "      <td>889751711</td>\n",
       "      <td>18-29</td>\n",
       "    </tr>\n",
       "  </tbody>\n",
       "</table>\n",
       "</div>"
      ],
      "text/plain": [
       "   user_id  age gender  occupation zipcode  item_id  rating  timestamp agerange\n",
       "0        1   24      M  technician   85711       61       4  878542420    18-29\n",
       "1        1   24      M  technician   85711      189       3  888732928    18-29\n",
       "2        1   24      M  technician   85711       33       4  878542699    18-29\n",
       "3        1   24      M  technician   85711      160       4  875072547    18-29\n",
       "4        1   24      M  technician   85711       20       4  887431883    18-29\n",
       "5        1   24      M  technician   85711      202       5  875072442    18-29\n",
       "6        1   24      M  technician   85711      171       5  889751711    18-29"
      ]
     },
     "execution_count": 15,
     "metadata": {
      "tags": []
     },
     "output_type": "execute_result"
    }
   ],
   "source": [
    "data_tmp=pd.merge(users,user_ratings,on='user_id')\n",
    "\n",
    "data_piv = pd.pivot_table(data_tmp,values='rating',index='user_id',columns='item_id')\n",
    "bins = [18, 30, 40, 50, 60, 70, 120]\n",
    "labels = ['18-29', '30-39', '40-49', '50-59', '60-69', '70+']\n",
    "data_tmp['agerange'] = pd.cut(data_tmp.age, bins, labels = labels,include_lowest = True)\n",
    "\n",
    "data_summary=data_tmp.groupby('agerange',as_index=True)['rating'].count()\n",
    "data_tmp.head(7)"
   ]
  },
  {
   "cell_type": "markdown",
   "metadata": {
    "colab_type": "text",
    "id": "9QCLouhV0iff"
   },
   "source": []
  },
  {
   "cell_type": "markdown",
   "metadata": {
    "colab_type": "text",
    "id": "-2ILUYrHEagw"
   },
   "source": [
    "From the above table users who like speed belong to 18-29 age group"
   ]
  }
 ],
 "metadata": {
  "colab": {
   "name": "assignment4.ipynb",
   "provenance": [],
   "version": "0.3.2"
  },
  "kernelspec": {
   "display_name": "Python 3",
   "language": "python",
   "name": "python3"
  },
  "language_info": {
   "codemirror_mode": {
    "name": "ipython",
    "version": 3
   },
   "file_extension": ".py",
   "mimetype": "text/x-python",
   "name": "python",
   "nbconvert_exporter": "python",
   "pygments_lexer": "ipython3",
   "version": "3.7.3"
  }
 },
 "nbformat": 4,
 "nbformat_minor": 4
}
