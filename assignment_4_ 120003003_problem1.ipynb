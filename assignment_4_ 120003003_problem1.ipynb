{
 "cells": [
  {
   "cell_type": "markdown",
   "metadata": {},
   "source": [
    "1.(a) \n",
    "\n",
    "Jaccard distance is the complement of jaccard index\n",
    "It can be found by subtracting jaccard index from 1.\n",
    "\n",
    "Jaccard Index:\n",
    "    \n",
    "    A=(1,1,0,1,1,0,1,1)\n",
    "    B=(0,1,1,1,1,1,1,0)\n",
    "    C=(1,0,1,1,0,1,1,1)\n",
    "    \n",
    " J(X,Y)= |X∩Y| / |X∪Y|\n",
    " \n",
    "  J(A,B) = |A∩B| / |A∪B|\n",
    "         = 4/8\n",
    "         = 0.5\n",
    "  \n",
    "  J(B,C) = |B∩C| / |B∪C|\n",
    "         = 4/8\n",
    "         = 0.5\n",
    "         \n",
    "  J(A,C) = |A∩C| / |A∪C|\n",
    "         = 4/8\n",
    "         = 0.5\n",
    "\n",
    "Jaccard Distance:\n",
    "    JD = 1-J\n",
    "    \n",
    "    J(A,B)=0.5\n",
    "    J(B,C)=0.5\n",
    "    J(C,A)=0.5"
   ]
  },
  {
   "cell_type": "raw",
   "metadata": {},
   "source": [
    "1.(b)\n",
    "\n",
    "Cosine Distance:\n",
    "\n",
    "    CD(A,B) = Dot product of A and B /(magnitude of A * magnitude of B)\n",
    "    \n",
    "\n",
    "a=(1,1,0,1,1,0,1,1)\n",
    "b=(0,1,1,1,1,1,1,0)\n",
    "c=(1,0,1,1,0,1,1,1)\n",
    "\n"
   ]
  },
  {
   "cell_type": "code",
   "execution_count": 4,
   "metadata": {},
   "outputs": [
    {
     "name": "stdout",
     "output_type": "stream",
     "text": [
      "0.6666666666666667\n",
      "0.6666666666666667\n",
      "0.6666666666666667\n"
     ]
    }
   ],
   "source": [
    "import numpy as np\n",
    "from sklearn.metrics.pairwise import cosine_similarity\n",
    "\n",
    "a = np.array([1,1,0,1,1,0,1,1])\n",
    "b = np.array([0,1,1,1,1,1,1,0])\n",
    "c = np.array([1,0,1,1,0,1,1,1])\n",
    "\n",
    "\n",
    "#cosine similarity\n",
    "def cosdist(x,y):\n",
    "    dot = np.dot(x, y)\n",
    "    norma = np.linalg.norm(x)\n",
    "    normb = np.linalg.norm(y)\n",
    "    cos = dot / (norma * normb)\n",
    "    return cos\n",
    "\n",
    " \n",
    "print(cosdist(a,b))\n",
    "print(cosdist(b,c))\n",
    "print(cosdist(c,a))\n"
   ]
  },
  {
   "cell_type": "raw",
   "metadata": {},
   "source": [
    "1.(c)\n",
    "Finding jaccard distance between the vectors by considering 3,4,5 as 1 and 1,2 as 0.\n",
    "\n",
    "A=(1,1,0,1,0,0,1,0) \n",
    "B=(0,1,1,1,0,0,0,0) \n",
    "C=(0,0,0,1,0,1,1,1)\n",
    "\n",
    "\n",
    "J(X,Y)= |X∩Y| / |X∪Y|\n",
    " \n",
    "  J(A,B) = |A∩B| / |A∪B|\n",
    "         = 2/5\n",
    "         = 0.4\n",
    "  \n",
    "  J(B,C) = |B∩C| / |B∪C|\n",
    "         = 1/6\n",
    "         = 0.166\n",
    "         \n",
    "  J(A,C) = |A∩C| / |A∪C|\n",
    "         = 2/6\n",
    "         = 0.333\n",
    "\n",
    "Jaccard Distance:\n",
    "    JD = 1-J\n",
    "    \n",
    "    J(A,B)=0.6\n",
    "    J(B,C)=0.834\n",
    "    J(C,A)=0.667"
   ]
  },
  {
   "cell_type": "raw",
   "metadata": {},
   "source": [
    "1.(d)\n"
   ]
  },
  {
   "cell_type": "code",
   "execution_count": 8,
   "metadata": {},
   "outputs": [
    {
     "name": "stdout",
     "output_type": "stream",
     "text": [
      "0.5773502691896258\n",
      "0.2886751345948129\n",
      "0.5\n"
     ]
    }
   ],
   "source": [
    "import numpy as np\n",
    "from sklearn.metrics.pairwise import cosine_similarity\n",
    "\n",
    "a = np.array([1,1,0,1,0,0,1,0])\n",
    "b = np.array([0,1,1,1,0,0,0,0])\n",
    "c = np.array([0,0,0,1,0,1,1,1])\n",
    "\n",
    "\n",
    "#cosine similarity\n",
    "def cosdist(x,y):\n",
    "    dot = np.dot(x, y)\n",
    "    norma = np.linalg.norm(x)\n",
    "    normb = np.linalg.norm(y)\n",
    "    cos = dot /float(norma * normb)\n",
    "    print(cos)\n",
    "    \n",
    "\n",
    "cosdist(a,b)\n",
    "cosdist(b,c)\n",
    "cosdist(c,a)"
   ]
  },
  {
   "cell_type": "raw",
   "metadata": {},
   "source": [
    "1.(e)\n",
    "\n",
    "Normalizing the matrix:\n",
    "\n",
    "    { 0.5  0.5   -0.5  0.5   -0.5   -0.5    0.5   -0.5 \n",
    "    -0.375 0.625 0.625 0.625 -0.375 -0.375 -0.375 -0.375\n",
    "    -0.5   -0.5  -0.5  0.5   -0.5    0.5    0.5    0.5 }"
   ]
  },
  {
   "cell_type": "raw",
   "metadata": {},
   "source": [
    "1.(f)\n",
    "cosine distance using the normalised matrix"
   ]
  },
  {
   "cell_type": "code",
   "execution_count": 9,
   "metadata": {},
   "outputs": [
    {
     "name": "stdout",
     "output_type": "stream",
     "text": [
      "0.2581988897471611\n",
      "-0.2581988897471611\n",
      "0.0\n"
     ]
    }
   ],
   "source": [
    "import numpy as np\n",
    "from sklearn.metrics.pairwise import cosine_similarity\n",
    "\n",
    "a = np.array([0.5,0.5,-0.5,0.5,-0.5,-0.5,0.5,-0.5])\n",
    "b = np.array([-0.375, 0.625, 0.625, 0.625, -0.375, -0.375, -0.375, -0.375])\n",
    "c = np.array([-0.5, -0.5,-0.5, 0.5, -0.5,0.5, 0.5, 0.5 ])\n",
    "\n",
    "\n",
    "#cosine similarity\n",
    "def cosdist(x,y):\n",
    "    dot = np.dot(x, y)\n",
    "    norma = np.linalg.norm(x)\n",
    "    normb = np.linalg.norm(y)\n",
    "    cos = dot /float(norma * normb)\n",
    "    print(cos)\n",
    "    \n",
    "\n",
    "cosdist(a,b)\n",
    "cosdist(b,c)\n",
    "cosdist(c,a)"
   ]
  }
 ],
 "metadata": {
  "kernelspec": {
   "display_name": "Python 3",
   "language": "python",
   "name": "python3"
  },
  "language_info": {
   "codemirror_mode": {
    "name": "ipython",
    "version": 3
   },
   "file_extension": ".py",
   "mimetype": "text/x-python",
   "name": "python",
   "nbconvert_exporter": "python",
   "pygments_lexer": "ipython3",
   "version": "3.7.3"
  }
 },
 "nbformat": 4,
 "nbformat_minor": 4
}
